{
 "cells": [
  {
   "cell_type": "code",
   "execution_count": 1,
   "id": "692c2e9f-31c2-4d0c-8401-220f24ebc5e2",
   "metadata": {},
   "outputs": [
    {
     "name": "stdout",
     "output_type": "stream",
     "text": [
      "Dataset split and saved into train, val, and test folders.\n"
     ]
    }
   ],
   "source": [
    "import os\n",
    "import shutil\n",
    "from sklearn.model_selection import train_test_split\n",
    "from torchvision import datasets, transforms\n",
    "\n",
    "# Define paths and directory structure\n",
    "dataset_root = '/home/jovyan/Data Mining and Machine Learning/Dataset_New/'\n",
    "train_dir = os.path.join(dataset_root, 'train')\n",
    "val_dir = os.path.join(dataset_root, 'val')\n",
    "test_dir = os.path.join(dataset_root, 'test')\n",
    "\n",
    "# Make sure the train, val, and test folders are empty before splitting\n",
    "if os.path.exists(train_dir):\n",
    "    shutil.rmtree(train_dir)\n",
    "if os.path.exists(val_dir):\n",
    "    shutil.rmtree(val_dir)\n",
    "if os.path.exists(test_dir):\n",
    "    shutil.rmtree(test_dir)\n",
    "\n",
    "# Create directories for train, validation, and test sets with subdirectories for each class\n",
    "all_images = datasets.ImageFolder(root=dataset_root)\n",
    "for class_name in all_images.classes:\n",
    "    os.makedirs(os.path.join(train_dir, class_name), exist_ok=True)\n",
    "    os.makedirs(os.path.join(val_dir, class_name), exist_ok=True)\n",
    "    os.makedirs(os.path.join(test_dir, class_name), exist_ok=True)\n",
    "\n",
    "# Split dataset into train, val, and test sets\n",
    "val_size = 0.2   # 20% for validation\n",
    "test_size = 0.1  # 10% for testing\n",
    "\n",
    "# Using train_test_split for stratified splits\n",
    "train_val_images, test_images = train_test_split(\n",
    "    all_images.samples, test_size=test_size, stratify=all_images.targets, random_state=42\n",
    ")\n",
    "train_images, val_images = train_test_split(\n",
    "    train_val_images, test_size=val_size / (1 - test_size), stratify=[img[1] for img in train_val_images], random_state=42\n",
    ")\n",
    "\n",
    "# Function to move images to the target folder\n",
    "def move_images(images, target_dir):\n",
    "    for image_path, label in images:\n",
    "        class_name = all_images.classes[label]\n",
    "        dest_dir = os.path.join(target_dir, class_name)\n",
    "        shutil.copy2(image_path, dest_dir)\n",
    "\n",
    "# Move images to their respective folders\n",
    "move_images(train_images, train_dir)\n",
    "move_images(val_images, val_dir)\n",
    "move_images(test_images, test_dir)\n",
    "\n",
    "print(\"Dataset split and saved into train, val, and test folders.\")"
   ]
  },
  {
   "cell_type": "code",
   "execution_count": null,
   "id": "298f861a-09b5-48c7-a1d2-eb9062725fa1",
   "metadata": {},
   "outputs": [],
   "source": []
  }
 ],
 "metadata": {
  "kernelspec": {
   "display_name": "Python 3 (ipykernel)",
   "language": "python",
   "name": "python3"
  },
  "language_info": {
   "codemirror_mode": {
    "name": "ipython",
    "version": 3
   },
   "file_extension": ".py",
   "mimetype": "text/x-python",
   "name": "python",
   "nbconvert_exporter": "python",
   "pygments_lexer": "ipython3",
   "version": "3.10.12"
  }
 },
 "nbformat": 4,
 "nbformat_minor": 5
}
